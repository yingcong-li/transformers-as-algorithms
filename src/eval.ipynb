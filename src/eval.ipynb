{
 "cells": [
  {
   "cell_type": "code",
   "execution_count": 1,
   "id": "ed6cfeb1",
   "metadata": {},
   "outputs": [],
   "source": [
    "import os\n",
    "from eval import read_run_dir, get_run_metrics, get_model_from_run\n",
    "\n",
    "run_dir = \"../models\""
   ]
  },
  {
   "cell_type": "code",
   "execution_count": null,
   "id": "6be3d110",
   "metadata": {},
   "outputs": [],
   "source": [
    "df = read_run_dir(run_dir)\n",
    "df  # list all the runs in our run_dir"
   ]
  },
  {
   "cell_type": "code",
   "execution_count": 3,
   "id": "2635cf99",
   "metadata": {},
   "outputs": [],
   "source": [
    "task = \"linear_regression\"\n",
    "run_id = \"T25\" \n",
    "\n",
    "run_path = os.path.join(run_dir, task, run_id)\n",
    "metrics = get_run_metrics(run_path, recompute_metrics=False, skip_baselines=False, robust_eval=False)"
   ]
  }
 ],
 "metadata": {
  "kernelspec": {
   "display_name": "Python 3.8.12 ('in-context-learning')",
   "language": "python",
   "name": "python3"
  },
  "language_info": {
   "codemirror_mode": {
    "name": "ipython",
    "version": 3
   },
   "file_extension": ".py",
   "mimetype": "text/x-python",
   "name": "python",
   "nbconvert_exporter": "python",
   "pygments_lexer": "ipython3",
   "version": "3.8.12"
  },
  "vscode": {
   "interpreter": {
    "hash": "05006845c3a39b2ec150d2e90c240493bb401e29c440ba01016357999646c7f6"
   }
  }
 },
 "nbformat": 4,
 "nbformat_minor": 5
}
